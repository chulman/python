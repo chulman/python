{
 "cells": [
  {
   "cell_type": "code",
   "execution_count": 1,
   "metadata": {},
   "outputs": [
    {
     "name": "stdout",
     "output_type": "stream",
     "text": [
      "red\n",
      "blue\n",
      "yellow\n"
     ]
    }
   ],
   "source": [
    "colors = ['red', 'blue', 'yellow']\n",
    "\n",
    "for color in colors:\n",
    "    print(color)"
   ]
  },
  {
   "cell_type": "code",
   "execution_count": 9,
   "metadata": {},
   "outputs": [
    {
     "name": "stdout",
     "output_type": "stream",
     "text": [
      "korea city is seoul\n",
      "U.K city is London\n",
      "U.S.A city is New york\n",
      "seoul korea\n",
      "London U.K\n",
      "New york U.S.A\n",
      "seoul\n",
      "London\n",
      "New york\n"
     ]
    }
   ],
   "source": [
    "wish_travel_city = {\n",
    "    \"korea\" : \"seoul\",\n",
    "    \"U.K\" : \"London\",\n",
    "    \"U.S.A\": \"New york\"\n",
    "}\n",
    "\n",
    "for country, city in wish_travel_city.items():\n",
    "    print(\"%s city is %s\" %(country ,city))\n",
    "\n",
    "for key in wish_travel_city.keys():\n",
    "    print(wish_travel_city[key], key)\n",
    "    \n",
    "for values in wish_travel_city.values():\n",
    "    print(values)"
   ]
  },
  {
   "cell_type": "code",
   "execution_count": 12,
   "metadata": {},
   "outputs": [
    {
     "name": "stdout",
     "output_type": "stream",
     "text": [
      "{'i': 2, ' ': 10, 'a': 4, 'm': 1, 'b': 1, 'o': 2, 'y': 2, ',': 1, 'u': 1, 'r': 2, 'e': 1, 'G': 1, 'l': 1, '.': 1}\n"
     ]
    }
   ],
   "source": [
    "# 중복 글자 체크\n",
    "message = \"i am a boy, you are a Girl.   \"\n",
    "\n",
    "counter = {}\n",
    "\n",
    "for char in message:\n",
    "    counter[char] = counter.setdefault(char, 0) + 1 \n",
    "    \n",
    "print(counter)    \n",
    "    "
   ]
  },
  {
   "cell_type": "code",
   "execution_count": null,
   "metadata": {},
   "outputs": [],
   "source": []
  }
 ],
 "metadata": {
  "kernelspec": {
   "display_name": "Python 3",
   "language": "python",
   "name": "python3"
  },
  "language_info": {
   "codemirror_mode": {
    "name": "ipython",
    "version": 3
   },
   "file_extension": ".py",
   "mimetype": "text/x-python",
   "name": "python",
   "nbconvert_exporter": "python",
   "pygments_lexer": "ipython3",
   "version": "3.6.5"
  }
 },
 "nbformat": 4,
 "nbformat_minor": 2
}
