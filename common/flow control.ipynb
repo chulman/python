{
 "cells": [
  {
   "cell_type": "code",
   "execution_count": 1,
   "metadata": {},
   "outputs": [],
   "source": [
    "# flow control - world control"
   ]
  },
  {
   "cell_type": "code",
   "execution_count": 3,
   "metadata": {},
   "outputs": [
    {
     "name": "stdout",
     "output_type": "stream",
     "text": [
      "enter the world:h\n"
     ]
    }
   ],
   "source": [
    "original = input('enter the world:')"
   ]
  },
  {
   "cell_type": "code",
   "execution_count": 11,
   "metadata": {},
   "outputs": [
    {
     "name": "stdout",
     "output_type": "stream",
     "text": [
      "ok\n"
     ]
    }
   ],
   "source": [
    "if len(original) > 0 and original.isalpha():\n",
    "    print('ok')\n",
    "    first_char = original[0]\n",
    "    new_world = original[1:] + first_char + 'ay'"
   ]
  },
  {
   "cell_type": "code",
   "execution_count": 13,
   "metadata": {},
   "outputs": [
    {
     "name": "stdout",
     "output_type": "stream",
     "text": [
      "hay\n"
     ]
    }
   ],
   "source": [
    "print(new_world)"
   ]
  },
  {
   "cell_type": "code",
   "execution_count": 17,
   "metadata": {},
   "outputs": [
    {
     "name": "stdout",
     "output_type": "stream",
     "text": [
      "my name is choi\n",
      "my name is kim\n",
      "my name is lee\n"
     ]
    }
   ],
   "source": [
    "# list for\n",
    "name_list = [\n",
    "    'choi',\n",
    "    'kim',\n",
    "    'lee'\n",
    "]\n",
    "for name in name_list:\n",
    "    print(\"my name is %s\" % name)"
   ]
  },
  {
   "cell_type": "code",
   "execution_count": 19,
   "metadata": {},
   "outputs": [
    {
     "name": "stdout",
     "output_type": "stream",
     "text": [
      "1 : link apple\n",
      "2 : link orange\n",
      "3 : link banana\n"
     ]
    }
   ],
   "source": [
    "# dict for\n",
    "fruit_dict = {1:\"apple\", 2:\"orange\", 3:\"banana\"}\n",
    "\n",
    "for num, fruit in fruit_dict.items():\n",
    "    print(\"%s : link %s\" % (num, fruit))"
   ]
  },
  {
   "cell_type": "code",
   "execution_count": null,
   "metadata": {},
   "outputs": [],
   "source": []
  }
 ],
 "metadata": {
  "kernelspec": {
   "display_name": "Python 3",
   "language": "python",
   "name": "python3"
  },
  "language_info": {
   "codemirror_mode": {
    "name": "ipython",
    "version": 3
   },
   "file_extension": ".py",
   "mimetype": "text/x-python",
   "name": "python",
   "nbconvert_exporter": "python",
   "pygments_lexer": "ipython3",
   "version": "3.6.5"
  }
 },
 "nbformat": 4,
 "nbformat_minor": 2
}
